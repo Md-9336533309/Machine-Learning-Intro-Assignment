{
  "nbformat": 4,
  "nbformat_minor": 0,
  "metadata": {
    "colab": {
      "provenance": []
    },
    "kernelspec": {
      "name": "python3",
      "display_name": "Python 3"
    },
    "language_info": {
      "name": "python"
    }
  },
  "cells": [
    {
      "cell_type": "markdown",
      "source": [
        "# Machine Learning Intro | Assignment"
      ],
      "metadata": {
        "id": "N4-itDOPpbtF"
      }
    },
    {
      "cell_type": "markdown",
      "source": [
        "# Question 1: Explain the differences between AI, ML, Deep Learning (DL), and Data Science (DS).\n",
        "\n",
        "1. Artificial Intelligence (AI)\n",
        "\n",
        "What it is:\n",
        "AI is the broadest concept – it means making computers or machines “think” and act like humans.\n",
        "\n",
        "Goal:\n",
        "To create systems that can solve problems, make decisions, and learn from experience.\n",
        "\n",
        "Examples:\n",
        "\n",
        "Chatbots\n",
        "\n",
        "Self-driving cars\n",
        "\n",
        "Recommendation systems (Netflix, Amazon, YouTube)\n",
        "\n",
        "------------\n",
        "\n",
        "2. Machine Learning (ML)\n",
        "\n",
        "What it is:\n",
        "ML is a subset of AI. It means teaching machines to learn from data instead of being programmed with fixed rules.\n",
        "\n",
        "Goal:\n",
        "To find patterns in data and make predictions or decisions.\n",
        "\n",
        "Examples:\n",
        "\n",
        "Spam email detection\n",
        "\n",
        "Predicting house prices\n",
        "\n",
        "Fraud detection in banking\n",
        "\n",
        "---------\n",
        "\n",
        "3. Deep Learning (DL)\n",
        "\n",
        "What it is:\n",
        "DL is a subset of ML that uses neural networks with many layers (hence “deep”).\n",
        "\n",
        "Goal:\n",
        "To handle very complex data (like images, speech, or text) automatically, without needing humans to do manual feature extraction.\n",
        "\n",
        "Examples:\n",
        "\n",
        "Face recognition\n",
        "\n",
        "Voice assistants (Alexa, Siri)\n",
        "\n",
        "Google Translate\n",
        "\n",
        "---------\n",
        "\n",
        "4. Data Science (DS)\n",
        "\n",
        "What it is:\n",
        "DS is a broader field that combines AI/ML/DL, statistics, and domain knowledge to extract insights and knowledge from data.\n",
        "\n",
        "Goal:\n",
        "To analyze, visualize, and interpret data for better decision-making.\n",
        "\n",
        "Examples:\n",
        "\n",
        "Analyzing sales data to find customer trends\n",
        "\n",
        "Building dashboards in companies\n",
        "\n",
        "Using ML models to predict stock prices"
      ],
      "metadata": {
        "id": "rUudomhfpod-"
      }
    },
    {
      "cell_type": "markdown",
      "source": [
        "# Question 2: What are the types of machine learning? Describe each with one real-world example.\n",
        "\n",
        "1. 1. Supervised Learning\n",
        "\n",
        "Meaning:\n",
        "\n",
        "The model learns from a labeled dataset (input + correct output are given).\n",
        "It’s like a teacher guiding a student with the right answers.\n",
        "\n",
        "Goal:\n",
        "Predict outcomes for new/unseen data.\n",
        "\n",
        "Examples of tasks: Classification, Regression.\n",
        "\n",
        "Real-world Example:\n",
        "\n",
        "Email Spam Detection: The model is trained on emails labeled as “spam” or “not spam.” When a new email comes, it predicts the category.\n",
        "\n",
        "----\n",
        "\n",
        "2. Unsupervised Learning\n",
        "\n",
        "Meaning:\n",
        "\n",
        "The model learns from unlabeled data (only input, no correct output given).\n",
        "It’s like exploring without a teacher – the model finds hidden patterns by itself.\n",
        "\n",
        "Goal:\n",
        "Group data or reduce complexity.\n",
        "\n",
        "Examples of tasks:  Clustering, Dimensionality Reduction.\n",
        "\n",
        "Real-world Example:\n",
        "\n",
        "Customer Segmentation in Marketing: Companies analyze purchase history and automatically group customers (e.g., budget shoppers, luxury buyers) without pre-labeled categories.\n",
        "\n",
        "----\n",
        "\n",
        "3. Reinforcement Learning\n",
        "\n",
        "Meaning:\n",
        "\n",
        "The model learns by trial and error, receiving rewards or penalties based on actions.\n",
        "It’s like training a pet with treats 🐕.\n",
        "\n",
        "Goal: Maximize long-term reward.\n",
        "\n",
        "Examples of tasks:  Decision-making, Game playing, Robotics.\n",
        "\n",
        "Real-world Example:\n",
        "\n",
        "Self-driving Cars: The AI learns to drive by making decisions (accelerate, brake, turn) and gets rewards for safe driving or penalties for mistakes.\n",
        "\n",
        "-------\n",
        "\n",
        "4. Semi-Supervised Learning (Bonus)\n",
        "\n",
        "Meaning:\n",
        "\n",
        "Mix of labeled + unlabeled data. Often most data is unlabeled, with only a small part labeled.\n",
        "\n",
        "Goal:\n",
        "Improve learning when labeling all data is too expensive or time-consuming.\n",
        "\n",
        "Real-world Example:\n",
        "\n",
        "Medical Diagnosis: A few X-ray images are labeled by doctors (disease/no disease), while most are unlabeled. The model learns from both to improve accuracy."
      ],
      "metadata": {
        "id": "IU5olVKEv6Ff"
      }
    },
    {
      "cell_type": "markdown",
      "source": [
        "# Question 3: Define overfitting, underfitting, and the bias-variance tradeoff in machine learning.\n",
        "\n",
        "1. Overfitting\n",
        "\n",
        "Definition:\n",
        "When a model learns too much detail from the training data, including noise and random fluctuations, so it performs well on training data but poorly on new/unseen data.\n",
        "\n",
        "Analogy:\n",
        "Like a student memorizing answers word-for-word without understanding. Good at practice tests, bad at real exam.\n",
        "\n",
        "Example:\n",
        "A decision tree that keeps splitting until every training point is perfectly classified, but fails on test data.\n",
        "\n",
        "---\n",
        "\n",
        "2. Underfitting\n",
        "\n",
        "Definition:\n",
        "When a model is too simple to capture the underlying patterns in the data, so it performs badly on both training and test data.\n",
        "\n",
        "Analogy:\n",
        "Like a student who only skimmed the book and can’t even do practice questions well.\n",
        "\n",
        "Example:\n",
        "Using a straight line to predict housing prices when the real relationship is much more complex.\n",
        "\n",
        "------\n",
        "\n",
        "\n",
        "3. Bias-Variance Tradeoff\n",
        "\n",
        "Bias:\n",
        "\n",
        "Error due to wrong assumptions or oversimplification by the model. (Leads to underfitting.)\n",
        "\n",
        "Variance:\n",
        "\n",
        "Error due to model being too sensitive to training data noise. (Leads to overfitting.)\n",
        "\n",
        "Tradeoff:\n",
        "\n",
        "You can’t minimize both at the same time. A good model balances bias and variance to achieve low total error.\n",
        "\n",
        "Analogy:\n",
        "\n",
        "High bias: Always guessing “4” on every exam question, even if the answer varies.\n",
        "\n",
        "High variance: Changing your answer wildly based on tiny hints, getting confused.\n",
        "\n",
        "Balanced: Understanding the concepts well and answering flexibly."
      ],
      "metadata": {
        "id": "zhnYzBG-0074"
      }
    },
    {
      "cell_type": "markdown",
      "source": [
        "# Question 4: What are outliers in a dataset, and list three common techniques for handling them.\n",
        "\n",
        "What are Outliers?\n",
        "\n",
        "Definition:\n",
        "Outliers are data points that are very different from the rest of the data.\n",
        "\n",
        "They can be too high or too low compared to the majority of values.\n",
        "\n",
        "Why important?\n",
        "Outliers can distort analysis, affect averages, and mislead models.\n",
        "\n",
        "Example:\n",
        "If most students score between 40–90 in an exam, but one student scores 0 and another scores 100, those are outliers.\n",
        "\n",
        "---\n",
        "\n",
        "Three Common Techniques to Handle Outliers\n",
        "\n",
        "1. Removal (Drop Outliers)\n",
        "\n",
        "Remove extreme values beyond a certain threshold (e.g., using Z-score > 3 or IQR rule).\n",
        "\n",
        "Example: If salary data has one entry of ₹1 crore while most are between ₹20k–₹2L, you may remove that extreme case.\n",
        "\n",
        "\n",
        "2. Transformation (Reduce Impact)\n",
        "\n",
        "Apply mathematical transformations to reduce the effect of outliers.\n",
        "\n",
        "Techniques: log transformation, square root, normalization.\n",
        "\n",
        "Example: In income data, log-transforming compresses very large values so they don’t dominate the model.\n",
        "\n",
        "\n",
        "3. Imputation / Capping (Replace or Limit Values)\n",
        "\n",
        "Imputation: Replace outliers with median or mean.\n",
        "\n",
        "Capping (Winsorization): Set upper/lower limits so extreme values are “pushed” closer to normal range.\n",
        "\n",
        "Example: If most exam scores are < 90 but one student scored 100, cap it at 95."
      ],
      "metadata": {
        "id": "cQCj--KX2nCF"
      }
    },
    {
      "cell_type": "markdown",
      "source": [
        "# Question 5: Explain the process of handling missing values and mention one imputation technique for numerical and one for categorical data.\n",
        "\n",
        "What are Missing Values?\n",
        "\n",
        "Missing values are data points where information is not recorded or unavailable.\n",
        "\n",
        "----\n",
        "\n",
        "Process of Handling Missing Values\n",
        "\n",
        "1. Identify missing data\n",
        "\n",
        "Use functions (e.g., isnull() in Python) to find where data is missing.\n",
        "\n",
        "2. Analyze why missing values exist\n",
        "\n",
        "Is it due to human error, data corruption, or not applicable?\n",
        "\n",
        "3. Decide a strategy\n",
        "\n",
        "Remove: Drop rows/columns with too many missing values.\n",
        "\n",
        "Impute: Fill missing values with meaningful substitutes.\n",
        "\n",
        "Leave as is: Sometimes missing itself is useful (e.g., not buying = no purchase).\n",
        "\n",
        "\n",
        "-----\n",
        "\n",
        "\n",
        "1. Imputation Techniques\n",
        "\n",
        "For Numerical Data → Mean/Median Imputation\n",
        "\n",
        "Replace missing numbers with the mean or median of the column.\n",
        "\n",
        "Example: If ages are [25, NaN, 30, 28], replace NaN with mean = 27.7 (or median = 28).\n",
        "\n",
        "\n",
        "2. For Categorical Data → Mode Imputation\n",
        "\n",
        "Replace missing category with the most frequent value (mode).\n",
        "\n",
        "Example: If Department = [HR, Finance, NaN, HR], replace NaN with “HR.”\n"
      ],
      "metadata": {
        "id": "ULe6g4dr4Q1a"
      }
    },
    {
      "cell_type": "code",
      "source": [
        "#Question 6: Write a Python program that:\n",
        "# ● Creates a synthetic imbalanced dataset with make_classification() from sklearn.datasets.\n",
        "# ● Prints the class distribution.\n",
        "\n",
        "from sklearn.datasets import make_classification\n",
        "from collections import Counter\n",
        "\n",
        "# Step 1: Create synthetic imbalanced dataset\n",
        "X, y = make_classification(n_samples=1000,     # total samples\n",
        "                           n_features=10,      # number of features\n",
        "                           n_classes=2,        # binary classification\n",
        "                           weights=[0.9, 0.1], # imbalance: 90% vs 10%\n",
        "                           random_state=42)\n",
        "\n",
        "# Step 2: Print class distribution\n",
        "print(\"Class distribution:\", Counter(y))\n",
        "\n"
      ],
      "metadata": {
        "colab": {
          "base_uri": "https://localhost:8080/"
        },
        "id": "IZmF7XYz6CkD",
        "outputId": "d9e321c2-90d2-4969-db00-b5bde2959230"
      },
      "execution_count": 1,
      "outputs": [
        {
          "output_type": "stream",
          "name": "stdout",
          "text": [
            "Class distribution: Counter({np.int64(0): 897, np.int64(1): 103})\n"
          ]
        }
      ]
    },
    {
      "cell_type": "code",
      "source": [
        "# Question 7: Implement one-hot encoding using pandas for the following list of colors:\n",
        "# ['Red', 'Green', 'Blue', 'Green', 'Red']. Print the resulting dataframe.\n",
        "\n",
        "import pandas as pd\n",
        "\n",
        "# Step 1: Create the data\n",
        "colors = ['Red', 'Green', 'Blue', 'Green', 'Red']\n",
        "\n",
        "# Step 2: Convert to DataFrame\n",
        "df = pd.DataFrame(colors, columns=['Color'])\n",
        "\n",
        "# Step 3: Apply one-hot encoding\n",
        "encoded_df = pd.get_dummies(df, columns=['Color'])\n",
        "\n",
        "# Step 4: Print the resulting DataFrame\n",
        "print(encoded_df)\n"
      ],
      "metadata": {
        "colab": {
          "base_uri": "https://localhost:8080/"
        },
        "id": "fWktZmiq6YPW",
        "outputId": "a93e38d8-e778-4b78-e2d0-72933e117bc8"
      },
      "execution_count": 2,
      "outputs": [
        {
          "output_type": "stream",
          "name": "stdout",
          "text": [
            "   Color_Blue  Color_Green  Color_Red\n",
            "0       False        False       True\n",
            "1       False         True      False\n",
            "2        True        False      False\n",
            "3       False         True      False\n",
            "4       False        False       True\n"
          ]
        }
      ]
    },
    {
      "cell_type": "code",
      "source": [
        "# Question 8: Write a Python script to:\n",
        "# ● Generate 1000 samples from a normal distribution.\n",
        "# ● Introduce 50 random missing values.\n",
        "# ● Fill missing values with the column mean.\n",
        "# ● Plot a histogram before and after imputation.\n",
        "\n",
        "\n",
        "import numpy as np\n",
        "import pandas as pd\n",
        "import matplotlib.pyplot as plt\n",
        "\n",
        "# Step 1: Generate 1000 samples from a normal distribution\n",
        "np.random.seed(42)  # for reproducibility\n",
        "data = np.random.normal(loc=50, scale=10, size=1000)  # mean=50, std=10\n",
        "\n",
        "# Step 2: Introduce 50 random missing values\n",
        "missing_indices = np.random.choice(1000, 50, replace=False)\n",
        "data[missing_indices] = np.nan\n",
        "\n",
        "# Step 3: Convert to pandas DataFrame\n",
        "df = pd.DataFrame(data, columns=[\"Value\"])\n",
        "\n",
        "# Step 4: Fill missing values with column mean\n",
        "df_filled = df.fillna(df[\"Value\"].mean())\n",
        "\n",
        "# Step 5: Plot histograms before and after imputation\n",
        "plt.figure(figsize=(12, 5))\n",
        "\n",
        "# Histogram before imputation\n",
        "plt.subplot(1, 2, 1)\n",
        "plt.hist(df[\"Value\"], bins=30, color=\"skyblue\", edgecolor=\"black\")\n",
        "plt.title(\"Before Imputation (with Missing Values)\")\n",
        "plt.xlabel(\"Value\")\n",
        "plt.ylabel(\"Frequency\")\n",
        "\n",
        "# Histogram after imputation\n",
        "plt.subplot(1, 2, 2)\n",
        "plt.hist(df_filled[\"Value\"], bins=30, color=\"lightgreen\", edgecolor=\"black\")\n",
        "plt.title(\"After Imputation (Mean Filled)\")\n",
        "plt.xlabel(\"Value\")\n",
        "plt.ylabel(\"Frequency\")\n",
        "\n",
        "plt.tight_layout()\n",
        "plt.show()\n"
      ],
      "metadata": {
        "colab": {
          "base_uri": "https://localhost:8080/",
          "height": 507
        },
        "id": "utSG8FF58PAI",
        "outputId": "d434d172-9da1-4dc1-d3a4-ae0385a432e5"
      },
      "execution_count": 3,
      "outputs": [
        {
          "output_type": "display_data",
          "data": {
            "text/plain": [
              "<Figure size 1200x500 with 2 Axes>"
            ],
            "image/png": "[encoded data removed]"
          },
          "metadata": {}
        }
      ]
    },
    {
      "cell_type": "code",
      "source": [
        " # Question 9: Implement Min-Max scaling on the following list of numbers [2, 5, 10, 15, 20] using sklearn.preprocessing.MinMaxScaler. Print the scaled array.\n",
        "\n",
        "import numpy as np\n",
        "from sklearn.preprocessing import MinMaxScaler\n",
        "\n",
        "# Step 1: Create the data\n",
        "data = np.array([2, 5, 10, 15, 20]).reshape(-1, 1)  # reshape for sklearn\n",
        "\n",
        "# Step 2: Apply Min-Max Scaling\n",
        "scaler = MinMaxScaler()\n",
        "scaled_data = scaler.fit_transform(data)\n",
        "\n",
        "# Step 3: Print the scaled array\n",
        "print(\"Scaled Data:\\n\", scaled_data)\n"
      ],
      "metadata": {
        "colab": {
          "base_uri": "https://localhost:8080/"
        },
        "id": "uSB61apr9vtr",
        "outputId": "cc0b4e83-4579-4ee2-9101-3c25a9d1a0b4"
      },
      "execution_count": 4,
      "outputs": [
        {
          "output_type": "stream",
          "name": "stdout",
          "text": [
            "Scaled Data:\n",
            " [[0.        ]\n",
            " [0.16666667]\n",
            " [0.44444444]\n",
            " [0.72222222]\n",
            " [1.        ]]\n"
          ]
        }
      ]
    },
    {
      "cell_type": "markdown",
      "source": [
        "# Question 10: You are working as a data scientist for a retail company. You receive a customer transaction dataset that contains:\n",
        "\n",
        "# ● Missing ages,\n",
        "\n",
        "# ● Outliers in transaction amount,\n",
        "\n",
        "# ● A highly imbalanced target (fraud vs. non-fraud)\n",
        "\n",
        "# ● Categorical variables like payment method.\n",
        "\n",
        "# Explain the step-by-step data preparation plan you’d follow before training a machine learning model. Include how you’d address missing data, outliers, imbalance, and encoding."
      ],
      "metadata": {
        "id": "ZDJTewvoV6Z-"
      }
    },
    {
      "cell_type": "code",
      "source": [
        "import pandas as pd\n",
        "import numpy as np\n",
        "from imblearn.over_sampling import SMOTE\n",
        "\n",
        "# ------------------------------\n",
        "# Step 0: Create a synthetic dataset (for demo)\n",
        "# ------------------------------\n",
        "np.random.seed(42)\n",
        "df_synthetic = pd.DataFrame({\n",
        "    \"Age\": np.random.randint(18, 70, 100).astype(float),\n",
        "    \"TransactionAmount\": np.random.normal(500, 200, 100),  # mean=500, std=200\n",
        "    \"PaymentMethod\": np.random.choice([\"CreditCard\", \"DebitCard\", \"UPI\"], 100),\n",
        "    \"IsFraud\": np.random.choice([0, 1], size=100, p=[0.9, 0.1])  # imbalanced\n",
        "})\n",
        "# Introduce some missing ages\n",
        "df_synthetic.loc[np.random.choice(df_synthetic.index, 10, replace=False), \"Age\"] = np.nan\n",
        "\n",
        "# ------------------------------\n",
        "# 1. Handle Missing Ages (Median Imputation)\n",
        "# ------------------------------\n",
        "df_processed = df_synthetic.copy()\n",
        "df_processed['Age'] = df_processed['Age'].fillna(df_processed['Age'].median())\n",
        "\n",
        "print(\"Missing values in 'Age' after imputation:\")\n",
        "print(df_processed['Age'].isnull().sum())\n",
        "\n",
        "# ------------------------------\n",
        "# 2. Handle Outliers in Transaction Amount (IQR method)\n",
        "# ------------------------------\n",
        "Q1 = df_processed['TransactionAmount'].quantile(0.25)\n",
        "Q3 = df_processed['TransactionAmount'].quantile(0.75)\n",
        "IQR = Q3 - Q1\n",
        "lower_bound = Q1 - 1.5 * IQR\n",
        "upper_bound = Q3 + 1.5 * IQR\n",
        "\n",
        "df_processed_no_outliers = df_processed[\n",
        "    (df_processed['TransactionAmount'] >= lower_bound) &\n",
        "    (df_processed['TransactionAmount'] <= upper_bound)\n",
        "].copy()\n",
        "\n",
        "print(\"\\nShape of DataFrame after outlier removal:\")\n",
        "print(df_processed_no_outliers.shape)\n",
        "\n",
        "# ------------------------------\n",
        "# 3. Handle Imbalanced Target (SMOTE)\n",
        "# ------------------------------\n",
        "X_smote = df_processed_no_outliers.drop('IsFraud', axis=1)\n",
        "y_smote = df_processed_no_outliers['IsFraud']\n",
        "\n",
        "# One-Hot Encode categorical feature before SMOTE\n",
        "X_smote = pd.get_dummies(X_smote, columns=['PaymentMethod'], drop_first=True)\n",
        "\n",
        "smote = SMOTE(random_state=42, k_neighbors=3) # Changed k_neighbors to 3\n",
        "X_res, y_res = smote.fit_resample(X_smote, y_smote)\n",
        "\n",
        "print(\"\\nClass distribution after SMOTE:\")\n",
        "print(pd.Series(y_res).value_counts())\n",
        "\n",
        "# ------------------------------\n",
        "# 4. Handle Categorical Variables (already done for SMOTE)\n",
        "# ------------------------------\n",
        "print(\"\\nData handling steps demonstrated on synthetic data.\")"
      ],
      "metadata": {
        "colab": {
          "base_uri": "https://localhost:8080/"
        },
        "id": "B1Y7dow9KSDW",
        "outputId": "1ff475ee-134b-466f-81a7-f9d02d35f5f8"
      },
      "execution_count": 23,
      "outputs": [
        {
          "output_type": "stream",
          "name": "stdout",
          "text": [
            "Missing values in 'Age' after imputation:\n",
            "0\n",
            "\n",
            "Shape of DataFrame after outlier removal:\n",
            "(100, 4)\n",
            "\n",
            "Class distribution after SMOTE:\n",
            "IsFraud\n",
            "0    95\n",
            "1    95\n",
            "Name: count, dtype: int64\n",
            "\n",
            "Data handling steps demonstrated on synthetic data.\n"
          ]
        }
      ]
    },
    {
      "cell_type": "code",
      "source": [],
      "metadata": {
        "id": "wr2FAqxyWNX6"
      },
      "execution_count": null,
      "outputs": []
    }
  ]
}